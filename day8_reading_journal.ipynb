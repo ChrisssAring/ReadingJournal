{
 "cells": [
  {
   "cell_type": "markdown",
   "metadata": {},
   "source": [
    "# Day 8 Reading Journal\n",
    "\n",
    "This journal includes several required exercises, but it is meant to encourage active reading more generally.  You should use the journal to take detailed notes, catalog questions, and explore the content from Think Python deeply.\n",
    "\n",
    "Reading: Think Python Chapter 13, 15\n",
    "\n",
    "**Due: Thursday, February 16 at 12 noon**\n",
    "\n"
   ]
  },
  {
   "cell_type": "markdown",
   "metadata": {},
   "source": [
    "## [Chapter 13](http://www.greenteapress.com/thinkpython2/html/thinkpython2014.html)\n",
    "\n",
    "The content in this chapter could be very helpful for the text mining mini project. The reading and all exercises within are optional.\n",
    "\n",
    " - Section 13.3-4 gives a good example of some techniques for working with files, processing text, and doing some simple analysis. \n",
    " - Section 13.8 and the Markov generation in Exercise 8 can be a lot of fun. \n",
    " - Now that you know a wide range of different data structures, Section 13.9 starts to give some guidance for choosing between them\n",
    " - Section 13.10 explains Allen's \"4 r's\" of debugging strategy"
   ]
  },
  {
   "cell_type": "markdown",
   "metadata": {},
   "source": [
    "## [Chapter 15](http://www.greenteapress.com/thinkpython2/html/thinkpython2016.html)\n",
    "\n",
    "This chapter has very few (and short) exercises, and is more focused on starting to think about classes and objects. If you haven't seen user defined types like classes before, you should read closely and try out some examples on your own. For example, you can write a [Python Tutor example like this one](http://pythontutor.com/visualize.html#code=%23+Example+for+visualizing+object+diagrams+by+stepping+through+the+code%0A%0Aclass+Point(object%29%3A%0A++++%22%22%22Represents+a+point+in+2-D+space.%22%22%22%0A++++pass%0A%0Aclass+Rectangle(object%29%3A%0A++++%22%22%22Represents+a+rectangle.+%0A%0A++++attributes%3A+width,+height,+corner.%0A++++%22%22%22%0A++++pass%0A%0A%0A%23+Create+a+point+to+serve+as+origin+for+our+rectangles%0Ap+%3D+Point(%29%0Ap.x+%3D+10%0Ap.y+%3D+15%0A%0A%23+Create+two+rectangles+with+different+size%0Ar1+%3D+Rectangle(%29%0Ar1.corner+%3D+p%0Ar1.width+%3D+100%0Ar1.height+%3D+100%0A%0Ar2+%3D+Rectangle(%29%0Ar2.corner+%3D+p%0Ar2.width+%3D+50%0Ar2.height+%3D+200%0A%0A%23+Change+the+width+of+r2+-+what+(if+any%29+is+the+effect+on+r1+and+why%3F%0Ar2.width+%3D+150%0Aprint+r1.width%0A%0A%23+Change+the+corner+position+of+r1+-+what+(if+any%29+is+the+effect+on+r2+and+why%3F%0Ar1.corner.x+%3D+20%0Aprint+r2.corner.x&mode=display&origin=opt-frontend.js&cumulative=false&heapPrimitives=false&textReferences=false&py=2&rawInputLstJSON=%5B%5D&curInstr=0) to explore object diagrams and aliasing.\n",
    "\n",
    "**Note**: The sequence of operations we use in this chapter to create class instances and assign their attributes, e.g. \n",
    "\n",
    "```\n",
    "box = Rectangle()\n",
    "box.width = 100.0\n",
    "box.height = 200.0\n",
    "box.corner = Point()\n",
    "box.corner.x = 0.0\n",
    "box.corner.y = 0.0\n",
    "```\n",
    "\n",
    "is somewhat clumsy and error prone. Things will get better in the next couple chapters; feel free to look ahead if you'd like a sneak preview.\n"
   ]
  },
  {
   "cell_type": "markdown",
   "metadata": {},
   "source": [
    "**Quick check:** In about one sentence using your own words, what is a class?"
   ]
  },
  {
   "cell_type": "markdown",
   "metadata": {},
   "source": [
    " It's a new type that is created by a programmer."
   ]
  },
  {
   "cell_type": "markdown",
   "metadata": {
    "is_question": true,
    "problem": "Exercise 15.1"
   },
   "source": [
    "### Chapter 15.2  \n",
    "\n",
    "Write a function called `distance_between_points` that takes two `Points` as arguments and returns the distance between them."
   ]
  },
  {
   "cell_type": "code",
   "execution_count": 21,
   "metadata": {
    "collapsed": false,
    "solution": "Exercise 15.1"
   },
   "outputs": [
    {
     "name": "stdout",
     "output_type": "stream",
     "text": [
      "18.681541692269406\n"
     ]
    }
   ],
   "source": [
    "# Write a function called distance that takes two Points as arguments and\n",
    "# returns the distance between them.\n",
    "\n",
    "# Current Status: Complete\n",
    "\n",
    "import math\n",
    "\n",
    "\n",
    "class Point(object):\n",
    "    \"\"\"Represents a point.\"\"\"\n",
    "\n",
    "point_one = Point()\n",
    "point_two = Point()\n",
    "point_one.x, point_one.y = 10.0, 25.0\n",
    "point_two.x, point_two.y = 5.0, 7.0\n",
    "\n",
    "\n",
    "def distance(point1, point2):\n",
    "    delta_x = point2.x - point1.x\n",
    "    delta_y = point2.y - point1.y\n",
    "    return math.sqrt(delta_x ** 2 + delta_y ** 2)\n",
    "\n",
    "print(distance(point_one, point_two))"
   ]
  },
  {
   "cell_type": "markdown",
   "metadata": {
    "is_question": true,
    "problem": "Exercise 15.2"
   },
   "source": [
    "### Chapter 15.5\n",
    "\n",
    "Write a function named `move_rectangle` that takes a `Rectangle` and two numbers named `dx` and `dy`. It should change the location of the rectangle by adding `dx` to the `x` coordinate of `corner` and adding `dy` to the `y` coordinate of `corner`."
   ]
  },
  {
   "cell_type": "code",
   "execution_count": 39,
   "metadata": {
    "collapsed": false,
    "solution": "Exercise 15.2"
   },
   "outputs": [
    {
     "name": "stdout",
     "output_type": "stream",
     "text": [
      "Bottom Left Point: (2.5, 10)\n",
      "Top Right Point: (12.5, 20)\n"
     ]
    }
   ],
   "source": [
    "import math\n",
    "\n",
    "\n",
    "class Point(object):\n",
    "    \"\"\"Represents a point.\"\"\"\n",
    "\n",
    "point_one = Point()\n",
    "point_two = Point()\n",
    "point_one.x, point_one.y = 10.0, 25.0\n",
    "point_two.x, point_two.y = 5.0, 7.0\n",
    "\n",
    "\n",
    "class Rectangle(object):\n",
    "    \"\"\"Represents a rectangle in 2d space\"\"\"\n",
    "\n",
    "rectangle = Rectangle()\n",
    "bottom_left = Point()\n",
    "bottom_left.x = 0.0\n",
    "bottom_left.y = 5.0\n",
    "top_right = Point()\n",
    "top_right.x = 10.0\n",
    "top_right.y = 15.0\n",
    "\n",
    "rectangle.corner1 = bottom_left\n",
    "rectangle.corner2 = top_right\n",
    "\n",
    "dx = 2.5\n",
    "dy = 5.0\n",
    "\n",
    "def move_rectangle(rectangle, dx, dy):\n",
    "    rectangle.corner1.x = rectangle.corner1.x + dx\n",
    "    rectangle.corner2.x = rectangle.corner2.x + dx\n",
    "    rectangle.corner1.y = rectangle.corner1.y + dy\n",
    "    rectangle.corner2.y = rectangle.corner2.y + dy\n",
    "    print(\"Bottom Left Point: (%g, %g)\" % (rectangle.corner1.x, rectangle.corner1.y))\n",
    "    print(\"Top Right Point: (%g, %g)\" % (rectangle.corner2.x, rectangle.corner2.y))\n",
    "\n",
    "move_rectangle(rectangle, dx, dy)"
   ]
  },
  {
   "cell_type": "markdown",
   "metadata": {
    "is_question": true,
    "problem": "Exercise 15.3"
   },
   "source": [
    "### Exercise 15.6\n",
    "\n",
    "Write a version of `move_rectangle` that creates and returns a new `Rectangle` instead of modifying the old one."
   ]
  },
  {
   "cell_type": "code",
   "execution_count": 61,
   "metadata": {
    "collapsed": false,
    "solution": "Exercise 15.3"
   },
   "outputs": [
    {
     "name": "stdout",
     "output_type": "stream",
     "text": [
      "Original Bottom Left Point: (0, 5)\n",
      "Original Top Right Point: (10, 15)\n",
      "Bottom Left Point: (2.5, 10)\n",
      "Top Right Point: (12.5, 20)\n"
     ]
    }
   ],
   "source": [
    "import math\n",
    "import copy\n",
    "\n",
    "class Point(object):\n",
    "    \"\"\"Represents a point.\"\"\"\n",
    "\n",
    "point_one = Point()\n",
    "point_two = Point()\n",
    "point_one.x, point_one.y = 10.0, 25.0\n",
    "point_two.x, point_two.y = 5.0, 7.0\n",
    "\n",
    "\n",
    "class Rectangle(object):\n",
    "    \"\"\"Represents a rectangle in 2d space\"\"\"\n",
    "\n",
    "rectangle = Rectangle()\n",
    "bottom_left = Point()\n",
    "bottom_left.x = 0.0\n",
    "bottom_left.y = 5.0\n",
    "top_right = Point()\n",
    "top_right.x = 10.0\n",
    "top_right.y = 15.0\n",
    "\n",
    "rectangle.corner1 = bottom_left\n",
    "rectangle.corner2 = top_right\n",
    "\n",
    "dx = 2.5\n",
    "dy = 5.0\n",
    "\n",
    "def move_rectangleNew(rectangle, dx, dy):\n",
    "    print(\"Original Bottom Left Point: (%g, %g)\" % (rectangle.corner1.x, rectangle.corner1.y))\n",
    "    print(\"Original Top Right Point: (%g, %g)\" % (rectangle.corner2.x, rectangle.corner2.y))\n",
    "    new_rectangle = copy.deepcopy(rectangle)\n",
    "    new_rectangle.corner1.x = new_rectangle.corner1.x + dx\n",
    "    new_rectangle.corner2.x = new_rectangle.corner2.x + dx\n",
    "    new_rectangle.corner1.y = new_rectangle.corner1.y + dy\n",
    "    new_rectangle.corner2.y = new_rectangle.corner2.y + dy\n",
    "    print(\"Bottom Left Point: (%g, %g)\" % (new_rectangle.corner1.x, new_rectangle.corner1.y))\n",
    "    print(\"Top Right Point: (%g, %g)\" % (new_rectangle.corner2.x, new_rectangle.corner2.y))\n",
    "\n",
    "move_rectangleNew(rectangle, dx, dy)"
   ]
  },
  {
   "cell_type": "markdown",
   "metadata": {
    "poll_response": true,
    "solution": "Time spent"
   },
   "source": [
    " "
   ]
  },
  {
   "cell_type": "markdown",
   "metadata": {
    "is_question": true,
    "problem": "Feedback"
   },
   "source": [
    "## Reading Journal feedback\n",
    "\n",
    "[Please complete this short survey](https://docs.google.com/forms/d/e/1FAIpQLScQekhUrf6YYjpfQiAAbavLIA-IJklv_PX1BWbGgxj7JPolmw/viewform?c=0&w=1)\n",
    "\n",
    "If you have any comments on this Reading Journal, feel free to leave them in the survey linked above. This could include suggestions to improve the exercises, topics you'd like to see covered in class next time, or other feedback.\n",
    "\n",
    "If you have Python questions or run into problems while completing the reading, you should post them to Piazza instead so you can get a quick response before your journal is submitted."
   ]
  },
  {
   "cell_type": "markdown",
   "metadata": {
    "feedback_response": true,
    "solution": "Feedback"
   },
   "source": [
    " "
   ]
  }
 ],
 "metadata": {
  "kernelspec": {
   "display_name": "Python 3",
   "language": "python",
   "name": "python3"
  },
  "language_info": {
   "codemirror_mode": {
    "name": "ipython",
    "version": 3
   },
   "file_extension": ".py",
   "mimetype": "text/x-python",
   "name": "python",
   "nbconvert_exporter": "python",
   "pygments_lexer": "ipython3",
   "version": "3.5.2"
  }
 },
 "nbformat": 4,
 "nbformat_minor": 0
}
